{
 "cells": [
  {
   "cell_type": "markdown",
   "metadata": {},
   "source": [
    "https://towardsdatascience.com/blockchain-explained-in-7-python-functions-c49c84f34ba5"
   ]
  },
  {
   "cell_type": "code",
   "execution_count": 28,
   "metadata": {},
   "outputs": [],
   "source": [
    "import hashlib\n",
    "import json"
   ]
  },
  {
   "cell_type": "code",
   "execution_count": 29,
   "metadata": {},
   "outputs": [],
   "source": [
    "def hash_function(k):\n",
    "    if type(k) is not str:\n",
    "        k = json.dumps(k, sort_keys=True)\n",
    "    return hashlib.sha256(k.encode(\"utf8\")).hexdigest()  ## had to add the encode(\"utf8\")"
   ]
  },
  {
   "cell_type": "code",
   "execution_count": 13,
   "metadata": {},
   "outputs": [
    {
     "data": {
      "text/plain": [
       "'13b5c13435b444cc1375e890ac618b9b69ccfd2b2e993dcf67e4f25065e7379b'"
      ]
     },
     "execution_count": 13,
     "metadata": {},
     "output_type": "execute_result"
    }
   ],
   "source": [
    "hash_function(\"i'm testing\")"
   ]
  },
  {
   "cell_type": "code",
   "execution_count": 30,
   "metadata": {},
   "outputs": [],
   "source": [
    "def update_state(transaction, state):\n",
    "    state = state.copy()\n",
    "    \n",
    "    for key in transaction:\n",
    "        if key in state.keys():\n",
    "            state[key] += transaction[key]\n",
    "        else:\n",
    "            state[key] = transaction[key]\n",
    "            \n",
    "    return state"
   ]
  },
  {
   "cell_type": "code",
   "execution_count": 17,
   "metadata": {},
   "outputs": [],
   "source": [
    "t = {'transaction': {'Tom': 9, 'Medium': 1}}\n",
    "s = {'state': {'Tom': 8, 'Medium': 2}}"
   ]
  },
  {
   "cell_type": "code",
   "execution_count": 18,
   "metadata": {},
   "outputs": [
    {
     "name": "stdout",
     "output_type": "stream",
     "text": [
      "{'state': {'Tom': 8, 'Medium': 2}}\n"
     ]
    },
    {
     "data": {
      "text/plain": [
       "{'state': {'Tom': 8, 'Medium': 2}, 'transaction': {'Tom': 9, 'Medium': 1}}"
      ]
     },
     "execution_count": 18,
     "metadata": {},
     "output_type": "execute_result"
    }
   ],
   "source": [
    "print(s)\n",
    "update_state(t,s)"
   ]
  },
  {
   "cell_type": "code",
   "execution_count": 19,
   "metadata": {},
   "outputs": [],
   "source": [
    "t = {'transaction': {'Tom': 6, 'Medium': 4}}"
   ]
  },
  {
   "cell_type": "code",
   "execution_count": 20,
   "metadata": {},
   "outputs": [
    {
     "data": {
      "text/plain": [
       "{'state': {'Tom': 8, 'Medium': 2}, 'transaction': {'Tom': 6, 'Medium': 4}}"
      ]
     },
     "execution_count": 20,
     "metadata": {},
     "output_type": "execute_result"
    }
   ],
   "source": [
    "update_state(t,s)"
   ]
  },
  {
   "cell_type": "code",
   "execution_count": 31,
   "metadata": {},
   "outputs": [],
   "source": [
    "def valid_transaction(transaction,state):\n",
    "    \"\"\"a valid transaction must sum to zero.\"\"\"\n",
    "    if sum(transaction.values()) is not 0:\n",
    "        return False\n",
    "    for key in transaction.keys():\n",
    "        if key in state.keys():\n",
    "            account_balance = state[key]\n",
    "        else:\n",
    "            account_balance = 0\n",
    "            \n",
    "        if account_balance + transaction[key] < 0:\n",
    "            return False\n",
    "    return True"
   ]
  },
  {
   "cell_type": "code",
   "execution_count": 32,
   "metadata": {},
   "outputs": [],
   "source": [
    "def make_block(transactions, chain):\n",
    "    \"\"\"make a block to go on the chain\"\"\"\n",
    "    parent_hash = chain[-1]['hash']\n",
    "    block_number = chain[-1]['contents']['block_number'] + 1\n",
    "    \n",
    "    block_contents = {\n",
    "        'block_number': block_number,\n",
    "        'parent_hash': parent_hash,\n",
    "        'transaction_count': block_number + 1,\n",
    "        'transaction':transactions\n",
    "    }\n",
    "    \n",
    "    return {'hash': hash_function(block_contents), 'contents': block_contents}"
   ]
  },
  {
   "cell_type": "code",
   "execution_count": 33,
   "metadata": {},
   "outputs": [],
   "source": [
    "def check_block_hash(block):\n",
    "    expected_hash = hash_function(block['contents'])\n",
    "    if block['hash'] is not expected_hash:\n",
    "        raise\n",
    "    return"
   ]
  },
  {
   "cell_type": "code",
   "execution_count": 34,
   "metadata": {},
   "outputs": [],
   "source": [
    "def check_chain(chain):\n",
    "    \"\"\"check that chain is valid\"\"\"\n",
    "    if type(chain) is str:\n",
    "        try:\n",
    "            chain = json.loads(chain)\n",
    "            assert (type(chain) == list)\n",
    "        except ValueError:\n",
    "            #string passed was not valid JSON\n",
    "            return False\n",
    "    elif type(chain) is not list:\n",
    "        return False\n",
    "    \n",
    "    state = {}\n",
    "    \n",
    "    for transaction in chain[0]['contents']['transaction']:\n",
    "        state = update_state(transaction, state)\n",
    "        \n",
    "    check_block_hash(chain[0])\n",
    "    parent = chain[0]\n",
    "    \n",
    "    for block in chain[1:]:\n",
    "        state = check_block_validity(block, parent, state)\n",
    "        parent = block\n",
    "        \n",
    "    return state"
   ]
  },
  {
   "cell_type": "code",
   "execution_count": 35,
   "metadata": {},
   "outputs": [],
   "source": [
    "def add_transaction_to_chain(transaction, state, chain):\n",
    "    if valid_transaction(transaction, state):\n",
    "        state = update_state(transaction, state)\n",
    "    else: \n",
    "        raise Exception('Invalid transaction')\n",
    "    \n",
    "    my_block = make_block(state, chain)\n",
    "    chain.append(my_block)\n",
    "    \n",
    "    for transaction in chain:\n",
    "        check_chain(transaction)\n",
    "        \n",
    "    return state, chain"
   ]
  },
  {
   "cell_type": "code",
   "execution_count": 36,
   "metadata": {},
   "outputs": [],
   "source": [
    "genesis_block = {\n",
    "    'hash': hash_function({\n",
    "        'block_number': 0,\n",
    "        'parent_hash': None,\n",
    "        'transaction_count': 1,\n",
    "        'transaction': [{'Tom': 10}]\n",
    "    }),\n",
    "    'contents': {\n",
    "        'block_number': 0,\n",
    "        'parent_hash': None,\n",
    "        'transaction_count': 1,\n",
    "        'transaction': [{'Tom': 10}]\n",
    "    },\n",
    "}"
   ]
  },
  {
   "cell_type": "code",
   "execution_count": 37,
   "metadata": {},
   "outputs": [],
   "source": [
    "block_chain = [genesis_block]\n",
    "chain_state = {'Tom': 10}"
   ]
  },
  {
   "cell_type": "code",
   "execution_count": 38,
   "metadata": {},
   "outputs": [],
   "source": [
    "chain_state, block_chain = add_transaction_to_chain(\n",
    "    transaction={'Tom': -1, 'Medium': 1}, state = chain_state, chain = block_chain\n",
    ")"
   ]
  },
  {
   "cell_type": "code",
   "execution_count": 39,
   "metadata": {},
   "outputs": [
    {
     "data": {
      "text/plain": [
       "{'Tom': 9, 'Medium': 1}"
      ]
     },
     "execution_count": 39,
     "metadata": {},
     "output_type": "execute_result"
    }
   ],
   "source": [
    "chain_state"
   ]
  },
  {
   "cell_type": "code",
   "execution_count": 40,
   "metadata": {},
   "outputs": [
    {
     "data": {
      "text/plain": [
       "[{'hash': '064d0b480b3b92761f31831d30ae9f01954efaa62371b4b44f11465ec22abe93',\n",
       "  'contents': {'block_number': 0,\n",
       "   'parent_hash': None,\n",
       "   'transaction_count': 1,\n",
       "   'transaction': [{'Tom': 10}]}},\n",
       " {'hash': 'b4ae25f0cc0ee0b0caa66b9a3473e9a108652d53b1dc22a40962fef5c8c0f08c',\n",
       "  'contents': {'block_number': 1,\n",
       "   'parent_hash': '064d0b480b3b92761f31831d30ae9f01954efaa62371b4b44f11465ec22abe93',\n",
       "   'transaction_count': 2,\n",
       "   'transaction': {'Tom': 9, 'Medium': 1}}}]"
      ]
     },
     "execution_count": 40,
     "metadata": {},
     "output_type": "execute_result"
    }
   ],
   "source": [
    "block_chain"
   ]
  },
  {
   "cell_type": "code",
   "execution_count": 41,
   "metadata": {},
   "outputs": [],
   "source": [
    "chain_state, block_chain = add_transaction_to_chain(\n",
    "    transaction={'Tom': -1, 'Fred': 1}, state = chain_state, chain = block_chain\n",
    ")"
   ]
  },
  {
   "cell_type": "code",
   "execution_count": 42,
   "metadata": {},
   "outputs": [
    {
     "data": {
      "text/plain": [
       "{'Tom': 8, 'Medium': 1, 'Fred': 1}"
      ]
     },
     "execution_count": 42,
     "metadata": {},
     "output_type": "execute_result"
    }
   ],
   "source": [
    "chain_state"
   ]
  },
  {
   "cell_type": "code",
   "execution_count": 43,
   "metadata": {},
   "outputs": [
    {
     "data": {
      "text/plain": [
       "[{'hash': '064d0b480b3b92761f31831d30ae9f01954efaa62371b4b44f11465ec22abe93',\n",
       "  'contents': {'block_number': 0,\n",
       "   'parent_hash': None,\n",
       "   'transaction_count': 1,\n",
       "   'transaction': [{'Tom': 10}]}},\n",
       " {'hash': 'b4ae25f0cc0ee0b0caa66b9a3473e9a108652d53b1dc22a40962fef5c8c0f08c',\n",
       "  'contents': {'block_number': 1,\n",
       "   'parent_hash': '064d0b480b3b92761f31831d30ae9f01954efaa62371b4b44f11465ec22abe93',\n",
       "   'transaction_count': 2,\n",
       "   'transaction': {'Tom': 9, 'Medium': 1}}},\n",
       " {'hash': '3f90180b88818649f3cb6250fde5016f0b8993aab1fdd13ebff6974694e12bfe',\n",
       "  'contents': {'block_number': 2,\n",
       "   'parent_hash': 'b4ae25f0cc0ee0b0caa66b9a3473e9a108652d53b1dc22a40962fef5c8c0f08c',\n",
       "   'transaction_count': 3,\n",
       "   'transaction': {'Tom': 8, 'Medium': 1, 'Fred': 1}}}]"
      ]
     },
     "execution_count": 43,
     "metadata": {},
     "output_type": "execute_result"
    }
   ],
   "source": [
    "block_chain"
   ]
  },
  {
   "cell_type": "code",
   "execution_count": 44,
   "metadata": {},
   "outputs": [],
   "source": [
    "chain_state, block_chain = add_transaction_to_chain(\n",
    "    transaction={'Tom': -4, 'James': 4}, state = chain_state, chain = block_chain\n",
    ")"
   ]
  },
  {
   "cell_type": "code",
   "execution_count": 45,
   "metadata": {},
   "outputs": [],
   "source": [
    "chain_state, block_chain = add_transaction_to_chain(\n",
    "    transaction={'Sally': 2, 'James': -2}, state = chain_state, chain = block_chain\n",
    ")"
   ]
  },
  {
   "cell_type": "code",
   "execution_count": 46,
   "metadata": {},
   "outputs": [
    {
     "data": {
      "text/plain": [
       "{'Tom': 4, 'Medium': 1, 'Fred': 1, 'James': 2, 'Sally': 2}"
      ]
     },
     "execution_count": 46,
     "metadata": {},
     "output_type": "execute_result"
    }
   ],
   "source": [
    "chain_state"
   ]
  },
  {
   "cell_type": "code",
   "execution_count": null,
   "metadata": {},
   "outputs": [],
   "source": []
  },
  {
   "cell_type": "code",
   "execution_count": 47,
   "metadata": {},
   "outputs": [],
   "source": [
    "### start a new block chain\n",
    "genesis_block2 = {\n",
    "    'hash': hash_function({\n",
    "        'block_number': 0,\n",
    "        'parent_hash': None,\n",
    "        'transaction_count': 1,\n",
    "        'transaction': [{'Tom': 1000}]\n",
    "    }),\n",
    "    'contents': {\n",
    "        'block_number': 0,\n",
    "        'parent_hash': None,\n",
    "        'transaction_count': 1,\n",
    "        'transaction': [{'Tom': 1000}]\n",
    "    },\n",
    "}"
   ]
  },
  {
   "cell_type": "code",
   "execution_count": 51,
   "metadata": {},
   "outputs": [],
   "source": [
    "block_chain2 = [genesis_block2]\n",
    "chain_state2 = {'Tom': 1000}"
   ]
  },
  {
   "cell_type": "code",
   "execution_count": 52,
   "metadata": {},
   "outputs": [
    {
     "data": {
      "text/plain": [
       "[{'hash': 'f7b86a0146f670853cf0cff557ddeef6b76ba496dec97a30103560224f77cf2d',\n",
       "  'contents': {'block_number': 0,\n",
       "   'parent_hash': None,\n",
       "   'transaction_count': 1,\n",
       "   'transaction': [{'Tom': 1000}]}}]"
      ]
     },
     "execution_count": 52,
     "metadata": {},
     "output_type": "execute_result"
    }
   ],
   "source": [
    "block_chain2"
   ]
  },
  {
   "cell_type": "code",
   "execution_count": 53,
   "metadata": {},
   "outputs": [],
   "source": [
    "chain_state2, block_chain2 = add_transaction_to_chain(\n",
    "    transaction={'Tom': -200, 'James': 200}, state = chain_state2, chain = block_chain2\n",
    ")"
   ]
  },
  {
   "cell_type": "code",
   "execution_count": 54,
   "metadata": {},
   "outputs": [
    {
     "data": {
      "text/plain": [
       "{'Tom': 800, 'James': 200}"
      ]
     },
     "execution_count": 54,
     "metadata": {},
     "output_type": "execute_result"
    }
   ],
   "source": [
    "chain_state2"
   ]
  },
  {
   "cell_type": "markdown",
   "metadata": {},
   "source": [
    "### Hashing more indepth  \n",
    "https://www.pythoncentral.io/hashing-strings-with-python/"
   ]
  },
  {
   "cell_type": "code",
   "execution_count": 3,
   "metadata": {},
   "outputs": [
    {
     "name": "stdout",
     "output_type": "stream",
     "text": [
      "a26c244a30b716788c8d1c3720bbd976cb70e309c822a57f45a67927def06052\n"
     ]
    }
   ],
   "source": [
    "import hashlib\n",
    "hash_object = hashlib.sha256(b'Hello worlds')\n",
    "hash_dig = hash_object.hexdigest()\n",
    "print(hash_dig)"
   ]
  },
  {
   "cell_type": "code",
   "execution_count": 11,
   "metadata": {},
   "outputs": [],
   "source": [
    "## checking passwords\n",
    "import uuid\n",
    "def hash_password(password):\n",
    "    salt = uuid.uuid4().hex\n",
    "    print(salt)\n",
    "    return hashlib.sha256(salt.encode() + password.encode()).hexdigest() + ':' + salt"
   ]
  },
  {
   "cell_type": "code",
   "execution_count": 13,
   "metadata": {},
   "outputs": [
    {
     "name": "stdout",
     "output_type": "stream",
     "text": [
      "c7ee6d1755fe4643b29164c682137aec\n"
     ]
    },
    {
     "data": {
      "text/plain": [
       "'cdcdff822eac4297b4fce8bf50af71bceeb429790cdda2fa11f33cc42aa71708:c7ee6d1755fe4643b29164c682137aec'"
      ]
     },
     "execution_count": 13,
     "metadata": {},
     "output_type": "execute_result"
    }
   ],
   "source": [
    "hash_password('george')"
   ]
  },
  {
   "cell_type": "code",
   "execution_count": 39,
   "metadata": {},
   "outputs": [],
   "source": [
    "def check_password(hashed_password, new_password):\n",
    "    password, salt = hashed_password.split(':')\n",
    "    return password == hashlib.sha256(salt.encode() + new_password.encode()).hexdigest()"
   ]
  },
  {
   "cell_type": "code",
   "execution_count": 34,
   "metadata": {},
   "outputs": [
    {
     "name": "stdout",
     "output_type": "stream",
     "text": [
      "please input your password: qwerty123\n"
     ]
    }
   ],
   "source": [
    "old_pass = input('please input your password: ',)"
   ]
  },
  {
   "cell_type": "code",
   "execution_count": 35,
   "metadata": {},
   "outputs": [
    {
     "name": "stdout",
     "output_type": "stream",
     "text": [
      "please repeat your password: qwerty123\n"
     ]
    }
   ],
   "source": [
    "new_pass = input('please repeat your password: ',)"
   ]
  },
  {
   "cell_type": "code",
   "execution_count": 40,
   "metadata": {},
   "outputs": [
    {
     "name": "stdout",
     "output_type": "stream",
     "text": [
      "qwerty123 qwerty123\n",
      "8285b40975fe466f84d5a446f6043974\n",
      "ce4ac8017c7eb32498231f6a63d152ea42b350acdbc2c65682d6b6d0db8d8524:8285b40975fe466f84d5a446f6043974\n",
      "442ae44fcf74472e8e96dfa9e6cefe31\n",
      "00149f51ddde13cbd50ee4444ba93d6cd0e557f82349215bbf777aa9c064066d:442ae44fcf74472e8e96dfa9e6cefe31\n"
     ]
    },
    {
     "data": {
      "text/plain": [
       "True"
      ]
     },
     "execution_count": 40,
     "metadata": {},
     "output_type": "execute_result"
    }
   ],
   "source": [
    "print(old_pass, new_pass)\n",
    "old_pass_hash = hash_password(old_pass)\n",
    "print(old_pass_hash)\n",
    "print(hash_password(new_pass))\n",
    "check_password(old_pass_hash, new_pass)"
   ]
  },
  {
   "cell_type": "code",
   "execution_count": null,
   "metadata": {},
   "outputs": [],
   "source": []
  }
 ],
 "metadata": {
  "kernelspec": {
   "display_name": "Python 3",
   "language": "python",
   "name": "python3"
  },
  "language_info": {
   "codemirror_mode": {
    "name": "ipython",
    "version": 3
   },
   "file_extension": ".py",
   "mimetype": "text/x-python",
   "name": "python",
   "nbconvert_exporter": "python",
   "pygments_lexer": "ipython3",
   "version": "3.6.6"
  }
 },
 "nbformat": 4,
 "nbformat_minor": 2
}
